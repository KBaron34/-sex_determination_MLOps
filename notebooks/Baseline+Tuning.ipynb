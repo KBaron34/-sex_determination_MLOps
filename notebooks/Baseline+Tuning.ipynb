{
 "cells": [
  {
   "cell_type": "markdown",
   "id": "8b866aa1",
   "metadata": {},
   "source": [
    "# Import"
   ]
  },
  {
   "cell_type": "code",
   "execution_count": 1,
   "id": "4e4241e4",
   "metadata": {},
   "outputs": [],
   "source": [
    "import numpy as np\n",
    "import pandas as pd\n",
    "from scipy import stats\n",
    "import yaml\n",
    "import joblib\n",
    "\n",
    "from sklearn.model_selection import train_test_split, StratifiedKFold\n",
    "from sklearn.metrics import accuracy_score, roc_auc_score, precision_score, \\\n",
    "recall_score, log_loss, f1_score\n",
    "\n",
    "from catboost import CatBoostClassifier\n",
    "\n",
    "from typing import Dict\n",
    "\n",
    "RAND = 10\n",
    "\n",
    "import warnings\n",
    "warnings.filterwarnings('ignore')"
   ]
  },
  {
   "cell_type": "code",
   "execution_count": 2,
   "id": "5c75ecc9",
   "metadata": {},
   "outputs": [],
   "source": [
    "config_path = '../config/params.yml'\n",
    "config = yaml.load(open(config_path), Loader=yaml.FullLoader)\n",
    "\n",
    "preproc = config['preprocessing']\n",
    "training = config['train']"
   ]
  },
  {
   "cell_type": "code",
   "execution_count": 3,
   "id": "0d0a1e6f",
   "metadata": {},
   "outputs": [],
   "source": [
    "df = pd.read_csv(preproc['df_path_proc'])"
   ]
  },
  {
   "cell_type": "code",
   "execution_count": 4,
   "id": "1cecd23c",
   "metadata": {},
   "outputs": [],
   "source": [
    "df.drop('Unnamed: 0', axis=1, inplace=True)"
   ]
  },
  {
   "cell_type": "code",
   "execution_count": 5,
   "id": "b5e05e49",
   "metadata": {},
   "outputs": [
    {
     "data": {
      "text/html": [
       "<div>\n",
       "<style scoped>\n",
       "    .dataframe tbody tr th:only-of-type {\n",
       "        vertical-align: middle;\n",
       "    }\n",
       "\n",
       "    .dataframe tbody tr th {\n",
       "        vertical-align: top;\n",
       "    }\n",
       "\n",
       "    .dataframe thead th {\n",
       "        text-align: right;\n",
       "    }\n",
       "</style>\n",
       "<table border=\"1\" class=\"dataframe\">\n",
       "  <thead>\n",
       "    <tr style=\"text-align: right;\">\n",
       "      <th></th>\n",
       "      <th>age</th>\n",
       "      <th>is_male</th>\n",
       "      <th>user_id</th>\n",
       "      <th>0</th>\n",
       "      <th>1</th>\n",
       "      <th>2</th>\n",
       "      <th>3</th>\n",
       "      <th>4</th>\n",
       "      <th>5</th>\n",
       "      <th>6</th>\n",
       "      <th>...</th>\n",
       "      <th>40</th>\n",
       "      <th>41</th>\n",
       "      <th>42</th>\n",
       "      <th>43</th>\n",
       "      <th>44</th>\n",
       "      <th>45</th>\n",
       "      <th>46</th>\n",
       "      <th>47</th>\n",
       "      <th>48</th>\n",
       "      <th>49</th>\n",
       "    </tr>\n",
       "  </thead>\n",
       "  <tbody>\n",
       "    <tr>\n",
       "      <th>0</th>\n",
       "      <td>41.0</td>\n",
       "      <td>0</td>\n",
       "      <td>99002</td>\n",
       "      <td>0.011460</td>\n",
       "      <td>-0.045297</td>\n",
       "      <td>-0.000106</td>\n",
       "      <td>0.038355</td>\n",
       "      <td>-0.049731</td>\n",
       "      <td>0.017894</td>\n",
       "      <td>0.037578</td>\n",
       "      <td>...</td>\n",
       "      <td>-0.031913</td>\n",
       "      <td>-0.028657</td>\n",
       "      <td>0.082529</td>\n",
       "      <td>-0.013785</td>\n",
       "      <td>0.049856</td>\n",
       "      <td>0.002158</td>\n",
       "      <td>-0.053036</td>\n",
       "      <td>0.036244</td>\n",
       "      <td>-0.106226</td>\n",
       "      <td>0.068259</td>\n",
       "    </tr>\n",
       "    <tr>\n",
       "      <th>1</th>\n",
       "      <td>41.0</td>\n",
       "      <td>1</td>\n",
       "      <td>29286</td>\n",
       "      <td>-0.001348</td>\n",
       "      <td>-0.003459</td>\n",
       "      <td>0.003018</td>\n",
       "      <td>0.001728</td>\n",
       "      <td>0.000264</td>\n",
       "      <td>0.005089</td>\n",
       "      <td>0.001692</td>\n",
       "      <td>...</td>\n",
       "      <td>0.000378</td>\n",
       "      <td>-0.002680</td>\n",
       "      <td>-0.002831</td>\n",
       "      <td>0.007567</td>\n",
       "      <td>0.002133</td>\n",
       "      <td>0.004990</td>\n",
       "      <td>-0.004669</td>\n",
       "      <td>-0.002094</td>\n",
       "      <td>0.002885</td>\n",
       "      <td>-0.001464</td>\n",
       "    </tr>\n",
       "    <tr>\n",
       "      <th>2</th>\n",
       "      <td>53.0</td>\n",
       "      <td>1</td>\n",
       "      <td>353838</td>\n",
       "      <td>-0.021405</td>\n",
       "      <td>-0.004580</td>\n",
       "      <td>0.031048</td>\n",
       "      <td>0.022001</td>\n",
       "      <td>-0.018898</td>\n",
       "      <td>0.004544</td>\n",
       "      <td>-0.027900</td>\n",
       "      <td>...</td>\n",
       "      <td>-0.081318</td>\n",
       "      <td>0.125404</td>\n",
       "      <td>0.169980</td>\n",
       "      <td>-0.075722</td>\n",
       "      <td>0.119304</td>\n",
       "      <td>-0.038135</td>\n",
       "      <td>0.033725</td>\n",
       "      <td>-0.048156</td>\n",
       "      <td>0.013396</td>\n",
       "      <td>0.010371</td>\n",
       "    </tr>\n",
       "    <tr>\n",
       "      <th>3</th>\n",
       "      <td>24.0</td>\n",
       "      <td>1</td>\n",
       "      <td>159197</td>\n",
       "      <td>0.069789</td>\n",
       "      <td>-0.005299</td>\n",
       "      <td>0.089089</td>\n",
       "      <td>0.019686</td>\n",
       "      <td>0.035566</td>\n",
       "      <td>0.043845</td>\n",
       "      <td>-0.054492</td>\n",
       "      <td>...</td>\n",
       "      <td>-0.049698</td>\n",
       "      <td>0.054714</td>\n",
       "      <td>0.046483</td>\n",
       "      <td>-0.078137</td>\n",
       "      <td>-0.042038</td>\n",
       "      <td>-0.064442</td>\n",
       "      <td>-0.070671</td>\n",
       "      <td>-0.011174</td>\n",
       "      <td>-0.072168</td>\n",
       "      <td>0.008845</td>\n",
       "    </tr>\n",
       "    <tr>\n",
       "      <th>4</th>\n",
       "      <td>33.0</td>\n",
       "      <td>0</td>\n",
       "      <td>32977</td>\n",
       "      <td>0.004787</td>\n",
       "      <td>0.008874</td>\n",
       "      <td>0.015001</td>\n",
       "      <td>0.002139</td>\n",
       "      <td>-0.002624</td>\n",
       "      <td>-0.001120</td>\n",
       "      <td>-0.004672</td>\n",
       "      <td>...</td>\n",
       "      <td>-0.016129</td>\n",
       "      <td>-0.027550</td>\n",
       "      <td>0.012608</td>\n",
       "      <td>0.030987</td>\n",
       "      <td>0.015132</td>\n",
       "      <td>0.021481</td>\n",
       "      <td>-0.016787</td>\n",
       "      <td>-0.014854</td>\n",
       "      <td>0.014066</td>\n",
       "      <td>0.000676</td>\n",
       "    </tr>\n",
       "  </tbody>\n",
       "</table>\n",
       "<p>5 rows × 53 columns</p>\n",
       "</div>"
      ],
      "text/plain": [
       "    age  is_male  user_id         0         1         2         3         4  \\\n",
       "0  41.0        0    99002  0.011460 -0.045297 -0.000106  0.038355 -0.049731   \n",
       "1  41.0        1    29286 -0.001348 -0.003459  0.003018  0.001728  0.000264   \n",
       "2  53.0        1   353838 -0.021405 -0.004580  0.031048  0.022001 -0.018898   \n",
       "3  24.0        1   159197  0.069789 -0.005299  0.089089  0.019686  0.035566   \n",
       "4  33.0        0    32977  0.004787  0.008874  0.015001  0.002139 -0.002624   \n",
       "\n",
       "          5         6  ...        40        41        42        43        44  \\\n",
       "0  0.017894  0.037578  ... -0.031913 -0.028657  0.082529 -0.013785  0.049856   \n",
       "1  0.005089  0.001692  ...  0.000378 -0.002680 -0.002831  0.007567  0.002133   \n",
       "2  0.004544 -0.027900  ... -0.081318  0.125404  0.169980 -0.075722  0.119304   \n",
       "3  0.043845 -0.054492  ... -0.049698  0.054714  0.046483 -0.078137 -0.042038   \n",
       "4 -0.001120 -0.004672  ... -0.016129 -0.027550  0.012608  0.030987  0.015132   \n",
       "\n",
       "         45        46        47        48        49  \n",
       "0  0.002158 -0.053036  0.036244 -0.106226  0.068259  \n",
       "1  0.004990 -0.004669 -0.002094  0.002885 -0.001464  \n",
       "2 -0.038135  0.033725 -0.048156  0.013396  0.010371  \n",
       "3 -0.064442 -0.070671 -0.011174 -0.072168  0.008845  \n",
       "4  0.021481 -0.016787 -0.014854  0.014066  0.000676  \n",
       "\n",
       "[5 rows x 53 columns]"
      ]
     },
     "execution_count": 5,
     "metadata": {},
     "output_type": "execute_result"
    }
   ],
   "source": [
    "df.head()"
   ]
  },
  {
   "cell_type": "code",
   "execution_count": 6,
   "id": "00485a72",
   "metadata": {},
   "outputs": [],
   "source": [
    "def get_metrics(y_test: np.array, y_pred: np.array, y_proba: np.array) -> dict:\n",
    "    '''\n",
    "    Создает словарь с оновными метриками\n",
    "    :param y_test: реальные данные\n",
    "    :param y_pred: предсказанные значения\n",
    "    :param y_proba: предсказанные вероятности\n",
    "    :return: словарь с метриками\n",
    "    '''\n",
    "    dict_metrics = {\n",
    "        'accuracy': round(accuracy_score(y_test, y_pred), 3),\n",
    "        'roc_auc': round(roc_auc_score(y_test, y_proba[:, 1]), 3),\n",
    "        'precision': round(precision_score(y_test, y_pred), 3),\n",
    "        'recall': round(recall_score(y_test, y_pred), 3),\n",
    "        'f1': round(f1_score(y_test, y_pred), 3),\n",
    "        'logloss': round(log_loss(y_test, y_proba), 3)\n",
    "    }\n",
    "\n",
    "    return dict_metrics"
   ]
  },
  {
   "cell_type": "markdown",
   "id": "cf8d77f1",
   "metadata": {},
   "source": [
    "# Modeling. Catboost"
   ]
  },
  {
   "cell_type": "code",
   "execution_count": 7,
   "id": "41990787",
   "metadata": {},
   "outputs": [],
   "source": [
    "X = df.drop(columns=training['drop_model'], axis=1)\n",
    "y = df[training['target_column']]\n",
    "\n",
    "X_train, X_test, y_train, y_test = train_test_split(X,\n",
    "                                                    y,\n",
    "                                                    test_size=preproc['test_size'],\n",
    "                                                    shuffle=True,\n",
    "                                                    random_state=training['random_state'])\n"
   ]
  },
  {
   "cell_type": "code",
   "execution_count": 8,
   "id": "448fb429",
   "metadata": {},
   "outputs": [
    {
     "data": {
      "text/plain": [
       "<catboost.core.CatBoostClassifier at 0x7f8bb800ae50>"
      ]
     },
     "execution_count": 8,
     "metadata": {},
     "output_type": "execute_result"
    }
   ],
   "source": [
    "clf = CatBoostClassifier(random_state=preproc['random_state'], eval_metric=\"AUC\")\n",
    "\n",
    "clf.fit(X_train,\n",
    "        y_train,\n",
    "        early_stopping_rounds=training['early_stopping_rounds'], \n",
    "        verbose=False)"
   ]
  },
  {
   "cell_type": "markdown",
   "id": "4944515e",
   "metadata": {},
   "source": [
    "# Tuning"
   ]
  },
  {
   "cell_type": "code",
   "execution_count": 9,
   "id": "ea383e0e",
   "metadata": {},
   "outputs": [
    {
     "name": "stdout",
     "output_type": "stream",
     "text": [
      "\n",
      "bestTest = 0.7921391847\n",
      "bestIteration = 549\n",
      "\n",
      "Metric AUC is not calculated on train by default. To calculate this metric on train, add hints=skip_train~false to metric parameters.\n",
      "\n",
      "bestTest = 0.8026251198\n",
      "bestIteration = 411\n",
      "\n",
      "Metric AUC is not calculated on train by default. To calculate this metric on train, add hints=skip_train~false to metric parameters.\n",
      "\n",
      "bestTest = 0.8066151853\n",
      "bestIteration = 971\n",
      "\n",
      "Metric AUC is not calculated on train by default. To calculate this metric on train, add hints=skip_train~false to metric parameters.\n",
      "\n",
      "bestTest = 0.7796334383\n",
      "bestIteration = 211\n",
      "\n",
      "Metric AUC is not calculated on train by default. To calculate this metric on train, add hints=skip_train~false to metric parameters.\n",
      "\n",
      "bestTest = 0.8092687698\n",
      "bestIteration = 817\n",
      "\n",
      "Metric AUC is not calculated on train by default. To calculate this metric on train, add hints=skip_train~false to metric parameters.\n",
      "Training on fold [0/3]\n",
      "\n",
      "bestTest = 0.8036360884\n",
      "bestIteration = 715\n",
      "\n",
      "Training on fold [1/3]\n",
      "\n",
      "bestTest = 0.7965993045\n",
      "bestIteration = 756\n",
      "\n",
      "Training on fold [2/3]\n",
      "\n",
      "bestTest = 0.8041451062\n",
      "bestIteration = 662\n",
      "\n"
     ]
    }
   ],
   "source": [
    "grid = {\n",
    "    'n_estimators': [1000],\n",
    "    'learning_rate': np.linspace(0.01, 0.1, 5),\n",
    "    'boosting_type' : ['Ordered', 'Plain'],\n",
    "    'max_depth': list(range(3, 12)),\n",
    "    'l2_leaf_reg': np.logspace(-5, 2, 5),\n",
    "    'random_strength': list(range(10, 50, 5)),\n",
    "    'bootstrap_type': [\"Bayesian\", \"Bernoulli\", \"MVS\", \"No\"],\n",
    "    'border_count': [128, 254],\n",
    "    'grow_policy': [\"SymmetricTree\", \"Depthwise\", \"Lossguide\"],\n",
    "    'random_state': [RAND]\n",
    "}\n",
    "\n",
    "model = CatBoostClassifier(eval_metric=\"AUC\", silent=True)\n",
    "grid_search_result = model.randomized_search(grid,\n",
    "                                             X=X_train,\n",
    "                                             y=y_train, \n",
    "                                             verbose=False)"
   ]
  },
  {
   "cell_type": "code",
   "execution_count": 10,
   "id": "e2b1d91b",
   "metadata": {},
   "outputs": [],
   "source": [
    "cat_best = grid_search_result['params']"
   ]
  },
  {
   "cell_type": "code",
   "execution_count": 11,
   "id": "ae3bd98b",
   "metadata": {},
   "outputs": [],
   "source": [
    "best_params = training['params_path']\n",
    "\n",
    "with open(best_params, 'w') as f:\n",
    "    json.dump(cat_best, f)"
   ]
  },
  {
   "cell_type": "markdown",
   "id": "c9fdc991",
   "metadata": {},
   "source": [
    "# Holdout"
   ]
  },
  {
   "cell_type": "code",
   "execution_count": 12,
   "id": "2a786cdc",
   "metadata": {},
   "outputs": [],
   "source": [
    "# ваш код\n",
    "def cross_validation_cat(X_train: pd.DataFrame,\n",
    "                         y_train: pd.Series,\n",
    "                         X_test: pd.DataFrame,\n",
    "                         y_test: pd.Series,\n",
    "                         clf,\n",
    "                         params: dict,\n",
    "                         cat_features: list = None,\n",
    "                         eval_metric: str = None,\n",
    "                         early_stop: bool = False,\n",
    "                         early_stopping_rounds: int = training['early_stopping_rounds'],\n",
    "                         num_folds: int = training['n_folds'],\n",
    "                         random_state: int = training['random_state'],\n",
    "                         shuffle: bool = True):\n",
    "    \"\"\"\n",
    "    Получает результаты при помощи кросс-валидации для задачи Классиификации\n",
    "    \"\"\"\n",
    "    folds = StratifiedKFold(n_splits=num_folds, \n",
    "                            random_state=random_state, \n",
    "                            shuffle=shuffle)\n",
    "    score_oof = []\n",
    "    pred_test = []\n",
    "    pred_prob_test = []\n",
    "\n",
    "\n",
    "    for fold, (train_index, \n",
    "               test_index) in enumerate(folds.split(X_train, y_train)):\n",
    "        X_train_, X_val = X_train.iloc[train_index], X_train.iloc[test_index]\n",
    "        y_train_, y_val = y_train.iloc[train_index], y_train.iloc[test_index]\n",
    "\n",
    "        model = clf(**params)\n",
    "\n",
    "        if early_stop == True:\n",
    "            if eval_metric is None:\n",
    "                model.fit(X_train_,\n",
    "                          y_train_,\n",
    "                          eval_set=[(X_val, y_val)],\n",
    "                          cat_features=cat_features,\n",
    "                          silent=True,\n",
    "                          early_stopping_rounds=early_stopping_rounds)\n",
    "            else:\n",
    "                model.fit(X_train_,\n",
    "                          y_train_,\n",
    "                          eval_set=[(X_val, y_val)],\n",
    "                          eval_metric=eval_metric,\n",
    "                          silent=True,\n",
    "                          cat_features=cat_features,\n",
    "                          early_stopping_rounds=early_stopping_rounds)\n",
    "        else:\n",
    "            model.fit(X_train_, y_train_, cat_features=cat_features)\n",
    "\n",
    "        y_pred_val = model.predict_proba(X_val)[:, 1]\n",
    "        y_pred = model.predict(X_test)\n",
    "        y_pred_prob = model.predict_proba(X_test)\n",
    "\n",
    "        print(\n",
    "            \"Fold:\", fold + 1,\n",
    "            \"AUC SCORE %.3f\" % roc_auc_score(y_val, y_pred_val))\n",
    "        print(\"---\")\n",
    "\n",
    "        # oof list\n",
    "        score_oof.append(roc_auc_score(y_val, y_pred_val))\n",
    "        # holdout list\n",
    "        pred_test.append(y_pred)\n",
    "        pred_prob_test.append(y_pred_prob)\n",
    "\n",
    "    return score_oof, pred_test, pred_prob_test"
   ]
  },
  {
   "cell_type": "code",
   "execution_count": 13,
   "id": "983c9d4c",
   "metadata": {
    "scrolled": true
   },
   "outputs": [
    {
     "name": "stdout",
     "output_type": "stream",
     "text": [
      "Fold: 1 AUC SCORE 0.809\n",
      "---\n",
      "Fold: 2 AUC SCORE 0.811\n",
      "---\n",
      "Fold: 3 AUC SCORE 0.793\n",
      "---\n",
      "Fold: 4 AUC SCORE 0.806\n",
      "---\n",
      "Fold: 5 AUC SCORE 0.797\n",
      "---\n"
     ]
    }
   ],
   "source": [
    "score_oof, pred_test, pred_prob_test = cross_validation_cat(\n",
    "    X_train,\n",
    "    y_train,\n",
    "    X_test,\n",
    "    y_test,\n",
    "    early_stop=True,\n",
    "    early_stopping_rounds=training['early_stopping_rounds'],\n",
    "    num_folds=training['n_folds'],\n",
    "    random_state=training['random_state'],\n",
    "    clf=CatBoostClassifier,\n",
    "    params=cat_best)"
   ]
  },
  {
   "cell_type": "code",
   "execution_count": 14,
   "id": "52bf2dbe",
   "metadata": {},
   "outputs": [
    {
     "name": "stdout",
     "output_type": "stream",
     "text": [
      "ROC-AUC mean OOF = 0.8033355401587284\n",
      "ROC-AUC HOLDOUT = 0.8113342237139753\n"
     ]
    }
   ],
   "source": [
    "fin_test_pred = stats.mode(np.column_stack(pred_test), axis=1)[0]\n",
    "fin_test_pred_prob = np.mean(pred_prob_test, axis=0)\n",
    "\n",
    "print(f'ROC-AUC mean OOF = {np.mean(score_oof)}')\n",
    "print(f'ROC-AUC HOLDOUT = {roc_auc_score(y_test, fin_test_pred_prob[:, 1])}')"
   ]
  },
  {
   "cell_type": "code",
   "execution_count": 15,
   "id": "d681b65f",
   "metadata": {},
   "outputs": [
    {
     "data": {
      "text/plain": [
       "['../../../../Курс_по_DS/Pet_project/Production/Models/model_cat.joblib']"
      ]
     },
     "execution_count": 15,
     "metadata": {},
     "output_type": "execute_result"
    }
   ],
   "source": [
    "model_path = training['model_path']\n",
    "\n",
    "joblib.dump(clf, model_path)"
   ]
  },
  {
   "cell_type": "code",
   "execution_count": 16,
   "id": "f6fe8544",
   "metadata": {},
   "outputs": [],
   "source": [
    "metrics_path = training['metrics_path']\n",
    "\n",
    "metrics = get_metrics(y_test, fin_test_pred, fin_test_pred_prob)\n",
    "with open(metrics_path, 'w') as f:\n",
    "    json.dump(metrics, f)"
   ]
  },
  {
   "cell_type": "code",
   "execution_count": 17,
   "id": "543ab6da",
   "metadata": {},
   "outputs": [
    {
     "data": {
      "text/plain": [
       "{'accuracy': 0.722,\n",
       " 'roc_auc': 0.811,\n",
       " 'precision': 0.71,\n",
       " 'recall': 0.743,\n",
       " 'f1': 0.726,\n",
       " 'logloss': 0.53}"
      ]
     },
     "execution_count": 17,
     "metadata": {},
     "output_type": "execute_result"
    }
   ],
   "source": [
    "with open(metrics_path) as json_file:\n",
    "    metrics = json.load(json_file)\n",
    "metrics"
   ]
  }
 ],
 "metadata": {
  "kernelspec": {
   "display_name": "Python 3 (ipykernel)",
   "language": "python",
   "name": "python3"
  },
  "language_info": {
   "codemirror_mode": {
    "name": "ipython",
    "version": 3
   },
   "file_extension": ".py",
   "mimetype": "text/x-python",
   "name": "python",
   "nbconvert_exporter": "python",
   "pygments_lexer": "ipython3",
   "version": "3.9.12"
  },
  "toc": {
   "base_numbering": 1,
   "nav_menu": {},
   "number_sections": true,
   "sideBar": true,
   "skip_h1_title": false,
   "title_cell": "Table of Contents",
   "title_sidebar": "Contents",
   "toc_cell": false,
   "toc_position": {},
   "toc_section_display": true,
   "toc_window_display": false
  }
 },
 "nbformat": 4,
 "nbformat_minor": 5
}
